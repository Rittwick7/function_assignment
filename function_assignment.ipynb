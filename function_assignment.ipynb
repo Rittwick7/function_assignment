{
  "nbformat": 4,
  "nbformat_minor": 0,
  "metadata": {
    "colab": {
      "provenance": []
    },
    "kernelspec": {
      "name": "python3",
      "display_name": "Python 3"
    },
    "language_info": {
      "name": "python"
    }
  },
  "cells": [
    {
      "cell_type": "markdown",
      "source": [
        "#Function"
      ],
      "metadata": {
        "id": "TKc7NE2Enx7m"
      }
    },
    {
      "cell_type": "markdown",
      "source": [
        "1. What is the difference between a function and a method in Python?\n",
        "  - A function is a block of reusable code that performs a specific task. It can be defined anywhere in the code and is called independently of any object.\n",
        "  A method is similar to a function, but it is associated with an object or a class. In Python, methods are functions that are defined inside a class and are meant to operate on instances of that class.\n",
        "\n",
        "2. Explain the concept of function arguments and parameters in Python.\n",
        "  - In Python, function arguments are values passed to a function within parentheses. A function can have multiple arguments, separated by commas, ex:- def greet ():\n",
        "\n",
        "   Parameters in python are variables that is placeholders for the actual values the function needs.\n",
        "\n",
        "3. What are the different ways to define and call a function in Python?\n",
        "  - To define a function in Python, we can use the def keyword, followed by the function name and parentheses. The code block for the function is indented after the colon, and to call a function in Python, we can use the function name followed by parentheses.\n",
        "  ex- def square_no (a):\n",
        "          return a*a\n",
        "      square_no (5)\n",
        "\n",
        "      25\n",
        "\n",
        "4. What is the purpose of the `return` statement in a Python function?\n",
        "  - In python 'return' statement marks the end of a function and specifies the value or values to pass back from the function.\n",
        "\n",
        "  ex:- def addition (a, b):\n",
        "           return a+b\n",
        "\n",
        "5. What are iterators in Python and how do they differ from iterables?\n",
        "  - In python an iterator is an object representing a stream of data and return the data one by one. But in python an iterable is any python object that is capable of returning its member one at a time.\n",
        "\n",
        "  ex:- For Iterable,..................... For Iterator,\n",
        "        r=\"rjash\"                         r=\"rjash\"\n",
        "        for i in r:                       iter (r)\n",
        "            print(i)                      a= iter (r)\n",
        "                                          next (a)\n",
        "        'r'                               'r'\n",
        "        'j'                               'j'\n",
        "        'a'                               'a'\n",
        "        's'                               's'\n",
        "        'h'                               'h'\n",
        "\n",
        "6. Explain the concept of generators in Python and how they are defined.\n",
        "  -  A Python generator function allows we to declare a function that behaves like an iterator, providing a faster and easier way to create iterators. A generator define using 'yield' statement.\n",
        "\n",
        "    ex:- square_number (s):\n",
        "\n",
        "         for i in range (s):\n",
        "\n",
        "             yield i**2\n",
        "\n",
        "         n=square_number (5)\n",
        "\n",
        "         next(n)\n",
        "\n",
        "        -> 0\n",
        "\n",
        "         next(n)\n",
        "\n",
        "        -> 1\n",
        "\n",
        "         next(n)\n",
        "\n",
        "        -> 4\n",
        "\n",
        "         next(n)\n",
        "\n",
        "        -> 9\n",
        "\n",
        "7. What are the advantages of using generators over regular functions?\n",
        " - Generators compute values only when needed, which enhances performance for larger datasets, also it has memory efficiency, readability, and speed than regular functions.\n",
        "\n",
        "8. What is a lambda function in Python and when is it typically used?\n",
        " - In Python, a lambda function is an anonymous function that's used to evaluate a single short expression and return its value. Lambda functions are typically used when a short-term function is required thats why it is also called as shorthand function.\n",
        "\n",
        "  ex:- s= lambda r: r**2\n",
        "       r (2)\n",
        "      -> 4\n",
        "\n",
        "9. Explain the purpose and usage of the `map()` function in Python.\n",
        "  - 'Map()' in Python is a function that works as an iterator to return a result after applying a function to every item of an iterable and it is used when we want to apply a single transformation function to all the iterable elements.\n",
        "\n",
        "10. What is the difference between `map()`, `reduce()`, and `filter()` functions in Python?\n",
        "  - 'Map()' applies a given function to each item of an iterable (like a list or set) and returns a list of the results. 'reduce()' applies a rolling computation to sequential pairs of values in a list and returns a single result. 'filter()' constructs a list from elements of an iterable for which a function returns true.\n",
        "\n",
        "  11. Using pen & Paper write the internal mechanism for sum operation using  reduce function on this given list:[47,11,42,13];\n",
        "   -\n"
      ],
      "metadata": {
        "id": "CBBerKlan2zu"
      }
    },
    {
      "cell_type": "markdown",
      "source": [
        "#Practical"
      ],
      "metadata": {
        "id": "5JgvTu1v3C8n"
      }
    },
    {
      "cell_type": "code",
      "source": [
        " # 1. Write a Python function that takes a list of numbers as input and returns the sum of all even numbers in the list.\n",
        " def sum_even_numbers(numbers):\n",
        "    sum = 0\n",
        "    for num in numbers:\n",
        "        if num % 2 == 0:\n",
        "            sum += num\n",
        "    return sum\n",
        "numbers = [1, 2, 3, 4, 5, 6, 7, 8, 9, 10]\n",
        "result = sum_even_numbers(numbers)\n",
        "print(result)"
      ],
      "metadata": {
        "colab": {
          "base_uri": "https://localhost:8080/"
        },
        "id": "br_lEBqf1836",
        "outputId": "05ef6663-cfb2-45f5-9b16-b4b7883946cf"
      },
      "execution_count": 11,
      "outputs": [
        {
          "output_type": "stream",
          "name": "stdout",
          "text": [
            "30\n"
          ]
        }
      ]
    },
    {
      "cell_type": "code",
      "source": [
        "# 2. Create a Python function that accepts a string and returns the reverse of that string.\n",
        "def rev_string(string):\n",
        "    return string[::-1]\n",
        "string = \"Rittwick\"\n",
        "result = rev_string(string)\n",
        "print(result)"
      ],
      "metadata": {
        "colab": {
          "base_uri": "https://localhost:8080/"
        },
        "id": "7TYpheqL5sCa",
        "outputId": "19a176a5-5a83-46ae-8689-e499cc357d02"
      },
      "execution_count": 13,
      "outputs": [
        {
          "output_type": "stream",
          "name": "stdout",
          "text": [
            "kciwttiR\n"
          ]
        }
      ]
    },
    {
      "cell_type": "code",
      "source": [
        "# 3. Implement a Python function that takes a list of integers and returns a new list containing the squares of each number.\n",
        "def square_numbers(numbers):\n",
        "    squares = []\n",
        "    for i in numbers:\n",
        "        squares.append(i**2)\n",
        "    return squares\n",
        "numbers = [1, 2, 3, 4, 5]\n",
        "result = square_numbers(numbers)\n",
        "print(result)"
      ],
      "metadata": {
        "colab": {
          "base_uri": "https://localhost:8080/"
        },
        "id": "rWIuxjYa6Xl5",
        "outputId": "223da05b-17b6-4a1a-8253-030f4c0689d5"
      },
      "execution_count": 24,
      "outputs": [
        {
          "output_type": "stream",
          "name": "stdout",
          "text": [
            "[1, 4, 9, 16, 25]\n"
          ]
        }
      ]
    },
    {
      "cell_type": "code",
      "source": [
        "# 4. Write a Python function that checks if a given number is prime or not from 1 to 200.\n",
        "def is_prime(num):\n",
        "  for i in range(2, num):\n",
        "    if num % i == 0 or num == num:\n",
        "      return \"It is a Prime Number\"\n",
        "    else:\n",
        "      return \"It is not a Prime Number\"\n",
        "\n",
        "is_prime(177)"
      ],
      "metadata": {
        "colab": {
          "base_uri": "https://localhost:8080/",
          "height": 35
        },
        "id": "og-vTFAE__k1",
        "outputId": "918c72b7-b5b3-49bc-aa9e-2778251527b3"
      },
      "execution_count": 32,
      "outputs": [
        {
          "output_type": "execute_result",
          "data": {
            "text/plain": [
              "'It is a Prime Number'"
            ],
            "application/vnd.google.colaboratory.intrinsic+json": {
              "type": "string"
            }
          },
          "metadata": {},
          "execution_count": 32
        }
      ]
    },
    {
      "cell_type": "code",
      "source": [
        "# 5. Create an iterator class in Python that generates the Fibonacci sequence up to a specified number of terms.\n",
        "def fib(n):\n",
        "  a=0\n",
        "  b=1\n",
        "  for i in range (n):\n",
        "    yield (a)\n",
        "    a, b=b,a+b\n",
        "\n",
        "fib(100)"
      ],
      "metadata": {
        "colab": {
          "base_uri": "https://localhost:8080/"
        },
        "id": "I-3kZuUPA67L",
        "outputId": "0f8fbdcf-b00b-4e30-8394-7a78fda5cb9f"
      },
      "execution_count": 36,
      "outputs": [
        {
          "output_type": "execute_result",
          "data": {
            "text/plain": [
              "<generator object fib at 0x7b7ad15f9fc0>"
            ]
          },
          "metadata": {},
          "execution_count": 36
        }
      ]
    },
    {
      "cell_type": "code",
      "source": [
        "# 6. Write a generator function in Python that yields the powers of 2 up to a given exponent.\n",
        "def number(n):\n",
        "  for i in range (1,n):\n",
        "    yield (2**i)\n",
        "number(5)\n"
      ],
      "metadata": {
        "colab": {
          "base_uri": "https://localhost:8080/"
        },
        "id": "KAlyPcYSDP3y",
        "outputId": "b7e7d712-8e8f-4654-8dbb-68fcd2b399a6"
      },
      "execution_count": 49,
      "outputs": [
        {
          "output_type": "execute_result",
          "data": {
            "text/plain": [
              "<generator object number at 0x7b7ad15f9930>"
            ]
          },
          "metadata": {},
          "execution_count": 49
        }
      ]
    },
    {
      "cell_type": "code",
      "source": [
        "num=number(5)\n",
        "next(num)"
      ],
      "metadata": {
        "colab": {
          "base_uri": "https://localhost:8080/"
        },
        "id": "iVVVk9swDcQ6",
        "outputId": "effa0b2b-e9b8-4ceb-cad8-5637898fec53"
      },
      "execution_count": 53,
      "outputs": [
        {
          "output_type": "execute_result",
          "data": {
            "text/plain": [
              "2"
            ]
          },
          "metadata": {},
          "execution_count": 53
        }
      ]
    },
    {
      "cell_type": "code",
      "source": [
        "next(num)"
      ],
      "metadata": {
        "colab": {
          "base_uri": "https://localhost:8080/"
        },
        "id": "s2oaj8ijDgv6",
        "outputId": "6bdba9c4-bced-4a2b-e08f-dbeefaf9586e"
      },
      "execution_count": 54,
      "outputs": [
        {
          "output_type": "execute_result",
          "data": {
            "text/plain": [
              "4"
            ]
          },
          "metadata": {},
          "execution_count": 54
        }
      ]
    },
    {
      "cell_type": "code",
      "source": [
        "next(num)"
      ],
      "metadata": {
        "colab": {
          "base_uri": "https://localhost:8080/"
        },
        "id": "2Un0zDqbDoly",
        "outputId": "d1dc92cc-f3f1-4928-eb23-a4a1ca8f72cd"
      },
      "execution_count": 55,
      "outputs": [
        {
          "output_type": "execute_result",
          "data": {
            "text/plain": [
              "8"
            ]
          },
          "metadata": {},
          "execution_count": 55
        }
      ]
    },
    {
      "cell_type": "code",
      "source": [
        "next(num)"
      ],
      "metadata": {
        "colab": {
          "base_uri": "https://localhost:8080/"
        },
        "id": "Gs6y2EswDxVx",
        "outputId": "967c5c77-f482-4cf7-af6d-3aca9435a126"
      },
      "execution_count": 56,
      "outputs": [
        {
          "output_type": "execute_result",
          "data": {
            "text/plain": [
              "16"
            ]
          },
          "metadata": {},
          "execution_count": 56
        }
      ]
    },
    {
      "cell_type": "code",
      "source": [
        "# 7. Implement a generator function that reads a file line by line and yields each line as a string.\n",
        "def read_file(file_path):\n",
        "    with open(file_path, 'r') as file:\n",
        "        for line in file:\n",
        "          if type(line) == str:\n",
        "            yield line\n",
        "read_file(\"/content/sample_data/pwskills.pdf\")"
      ],
      "metadata": {
        "colab": {
          "base_uri": "https://localhost:8080/"
        },
        "id": "P_R53xzeEJ3B",
        "outputId": "187399be-5497-43f1-ff4c-7e68f4db510d"
      },
      "execution_count": 61,
      "outputs": [
        {
          "output_type": "execute_result",
          "data": {
            "text/plain": [
              "<generator object read_file at 0x7b7ad15f9e70>"
            ]
          },
          "metadata": {},
          "execution_count": 61
        }
      ]
    },
    {
      "cell_type": "code",
      "source": [
        "# 8. Use a lambda function in Python to sort a list of tuples based on the second element of each tuple.\n",
        "tuple_list = [(1, 3), (2, 1), (4, 2), (5, 5)]\n",
        "sorted_list = sorted(tuple_list, key=lambda x: x[1])\n",
        "print(sorted_list)"
      ],
      "metadata": {
        "colab": {
          "base_uri": "https://localhost:8080/"
        },
        "id": "yLRLcUQDEiKR",
        "outputId": "07ed43b8-518d-451a-c45a-1e89664ef5f8"
      },
      "execution_count": 66,
      "outputs": [
        {
          "output_type": "stream",
          "name": "stdout",
          "text": [
            "[(2, 1), (4, 2), (1, 3), (5, 5)]\n"
          ]
        }
      ]
    },
    {
      "cell_type": "code",
      "source": [
        "# 9. Write a Python program that uses `map()` to convert a list of temperatures from Celsius to Fahrenheit.\n",
        "celsius_temperatures = [0, 25, 100, -5, 30]\n",
        "def celsius_to_fahrenheit(celsius):\n",
        "    return (celsius * 9/5) + 32\n",
        "fahrenheit_temperatures = list(map(celsius_to_fahrenheit, celsius_temperatures))\n",
        "print(fahrenheit_temperatures)"
      ],
      "metadata": {
        "colab": {
          "base_uri": "https://localhost:8080/"
        },
        "id": "61knzmYGGITR",
        "outputId": "f4983b5c-db26-474a-c0a3-40938b9497e4"
      },
      "execution_count": 63,
      "outputs": [
        {
          "output_type": "stream",
          "name": "stdout",
          "text": [
            "[32.0, 77.0, 212.0, 23.0, 86.0]\n"
          ]
        }
      ]
    },
    {
      "cell_type": "code",
      "source": [
        "# 10. Create a Python program that uses `filter()` to remove all the vowels from a given string.\n",
        "def remove_vowels(input_string):\n",
        "    vowels = \"a,e,i,o,u,A,E,I,O,,U\"\n",
        "    result = ''.join(filter(lambda x: x not in vowels, input_string))\n",
        "    return result\n",
        "input_string = \"Hello, World!\"\n",
        "output_string = remove_vowels(input_string)\n",
        "print(\"Original string:\", input_string)\n",
        "print(\"String without vowels:\", output_string)"
      ],
      "metadata": {
        "colab": {
          "base_uri": "https://localhost:8080/"
        },
        "id": "RMNxQoUlGiMp",
        "outputId": "c5eef65b-0291-4d38-bd47-f91e1331eb12"
      },
      "execution_count": 68,
      "outputs": [
        {
          "output_type": "stream",
          "name": "stdout",
          "text": [
            "Original string: Hello, World!\n",
            "String without vowels: Hll Wrld!\n"
          ]
        }
      ]
    },
    {
      "cell_type": "code",
      "source": [
        "# 11.\n"
      ],
      "metadata": {
        "id": "SE76jp2BHjjh"
      },
      "execution_count": null,
      "outputs": []
    }
  ]
}